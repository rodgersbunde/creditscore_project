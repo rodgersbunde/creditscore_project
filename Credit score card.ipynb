{
 "cells": [
  {
   "cell_type": "markdown",
   "id": "707a96a4-bb66-4d24-a26d-f85d3905ff22",
   "metadata": {},
   "source": [
    "# REVOLUTIONAZING CUSTOMERS CREDIT SCORE "
   ]
  },
  {
   "cell_type": "markdown",
   "id": "3e33513c-3bd8-4b90-b75b-8d3ec2fc2293",
   "metadata": {},
   "source": [
    "![istock.jpeg](https://media.istockphoto.com/id/1200726951/photo/credit-score-rating-based-on-debt-reports-showing-creditworthiness-or-risk-of-individuals-for.jpg?s=2048x2048&w=is&k=20&c=Tgx3HlK-DGFqgKD_xnzPK3i_-gSwkhYKJT-rSw7dF7A=)"
   ]
  },
  {
   "cell_type": "markdown",
   "id": "4944782d-cf35-4616-aea5-be5fcb6f9509",
   "metadata": {},
   "source": [
    "## Business Problem"
   ]
  },
  {
   "cell_type": "markdown",
   "id": "2c5d4a59-ec24-40b5-9d38-b8131158fc77",
   "metadata": {},
   "source": [
    "NicoElNino Microfinance is experiencing difficulties in accurately assessing the creditworthiness of its customers, resulting in increased loan defaults and financial losses. The company’s current methods of evaluating credit risk are manual and inefficient, undermining customer trust and business growth. To address this challenge, NicoElNino Microfinance, in collaboration with Providentia, aims to develop an intelligent credit scorecard system. \n",
    "\n",
    "This system will leverage the company’s extensive financial and credit-related data, along with demographic information, to automatically segregate customers into credit score brackets. By improving the accuracy of credit risk assessments, the goal is to enhance lending decisions, reduce default rates, and restore customer confidence."
   ]
  },
  {
   "cell_type": "markdown",
   "id": "dfaf19b0-6d6f-46e2-9005-8129503a146b",
   "metadata": {},
   "source": [
    "### Objectives\n",
    "\n",
    "#### Reduce Loan Defaults:\n",
    "Minimize financial losses by improving the accuracy of credit risk assessments and reducing the likelihood of granting loans to high-risk customers.\n",
    "#### Enhance Lending Decisions:\n",
    "Empower the organization to make more informed, data-driven decisions when approving loans, ensuring fair access to credit for eligible customers.\n",
    "#### Improve Operational Efficiency:\n",
    " Automate the credit evaluation process to reduce manual effort, speeding up loan processing and improving customer experience."
   ]
  },
  {
   "cell_type": "markdown",
   "id": "a2fcb83e-227c-44eb-8aaa-902da51f128e",
   "metadata": {},
   "source": [
    "### Data Understanding"
   ]
  },
  {
   "cell_type": "markdown",
   "id": "bdf13686-d797-4691-8487-23a1519b72fe",
   "metadata": {},
   "source": [
    "This dataset contains key information about customers,With 100,000 rows and 28 columns\n",
    "\n",
    "The source of data for this project is [Kaggle](https://www.kaggle.com/).\n",
    "\n",
    "Key Features\n",
    "\n",
    "- ID: Unique identifier for each entry in the dataset.\n",
    "  \n",
    "- Customer_ID: Identifier for each customer.\n",
    "  \n",
    "- Month: Month of data collection.\n",
    "- Name: Name of the customer.\n",
    "- Age: Age of the customer.\n",
    "- SSN: Social Security Number of the customer.\n",
    "- Occupation: Occupation of the customer.\n",
    "- Annual_Income: Annual income of the customer.\n",
    "- Monthly_Inhand_Salary: Monthly salary after deductions.\n",
    "- Num_Bank_Accounts: Number of bank accounts the customer has.\n",
    "- Num_Credit_Card: Number of credit cards the customer has.\n",
    "- Interest_Rate: Interest rate applied on loans.\n",
    "- Num_of_Loan: Number of loans the customer has.\n",
    "- Type_of_Loan: Type of loan taken by the customer.\n",
    "- Delay_from_due_date: Number of days delayed from due date for payments.\n",
    "- Num_of_Delayed_Payment: Number of delayed payments made by the customer.\n",
    "- Changed_Credit_Limit: Indicates if the credit limit has been changed.\n",
    "- Num_Credit_Inquiries: Number of credit inquiries made by the customer.\n",
    "- Credit_Mix: Mix of different types of credit accounts held by the customer.\n",
    "- Outstanding_Debt: Amount of outstanding debt.\n",
    "- Credit_Utilization_Ratio: Ratio of credit used to credit available.\n",
    "- Credit_History_Age: Age of credit history.\n",
    "- Payment_of_Min_Amount: Indicates if minimum payment amount is met.\n",
    "- Total_EMI_per_month: Total Equated Monthly Installment (EMI) paid by the customer.\n",
    "- Amount_invested_monthly: Amount invested monthly by the customer.\n",
    "- Payment_Behaviour: Payment behavior of the customer.\n",
    "- Monthly_Balance: Monthly balance in the account.\n",
    "- Credit_Score: Target variable - "
   ]
  },
  {
   "cell_type": "markdown",
   "id": "c4195271-1288-4323-a9fb-eaa54ec8b532",
   "metadata": {},
   "source": [
    "#### Importing Libraries"
   ]
  },
  {
   "cell_type": "code",
   "execution_count": 1,
   "id": "ef6b6106-aba6-443b-8616-383206e03b17",
   "metadata": {},
   "outputs": [],
   "source": [
    "#importing libraries\n",
    "import pandas as pd\n",
    "import seaborn as sns\n",
    "import numpy as np\n",
    "import matplotlib.pyplot as plt\n",
    "from sklearn.preprocessing import LabelEncoder\n",
    "from sklearn.model_selection import train_test_split\n",
    "from sklearn.preprocessing import StandardScaler\n",
    "from imblearn.over_sampling import SMOTE\n",
    "from sklearn.ensemble import RandomForestClassifier\n",
    "import warnings\n",
    "warnings.filterwarnings('ignore')\n",
    "from sklearn.compose import ColumnTransformer\n",
    "from sklearn.neighbors import KNeighborsClassifier\n",
    "from sklearn.model_selection import GridSearchCV\n",
    "from sklearn.model_selection import train_test_split, GridSearchCV\n",
    "from sklearn.metrics import accuracy_score, recall_score, roc_auc_score, precision_score\n",
    "from sklearn.linear_model import LogisticRegression\n",
    "from sklearn.metrics import classification_report, accuracy_score, r2_score\n",
    "from xgboost import XGBClassifier\n",
    "from sklearn.compose import ColumnTransformer\n",
    "from sklearn.preprocessing import StandardScaler, OneHotEncoder\n",
    "from sklearn.metrics import roc_curve, auc\n",
    "from sklearn.preprocessing import label_binarize\n",
    "from sklearn.model_selection import RandomizedSearchCV"
   ]
  },
  {
   "cell_type": "code",
   "execution_count": 2,
   "id": "f73234ff-4f65-4adf-96fa-6918749cd095",
   "metadata": {},
   "outputs": [
    {
     "data": {
      "text/html": [
       "<div>\n",
       "<style scoped>\n",
       "    .dataframe tbody tr th:only-of-type {\n",
       "        vertical-align: middle;\n",
       "    }\n",
       "\n",
       "    .dataframe tbody tr th {\n",
       "        vertical-align: top;\n",
       "    }\n",
       "\n",
       "    .dataframe thead th {\n",
       "        text-align: right;\n",
       "    }\n",
       "</style>\n",
       "<table border=\"1\" class=\"dataframe\">\n",
       "  <thead>\n",
       "    <tr style=\"text-align: right;\">\n",
       "      <th></th>\n",
       "      <th>ID</th>\n",
       "      <th>Customer_ID</th>\n",
       "      <th>Month</th>\n",
       "      <th>Name</th>\n",
       "      <th>Age</th>\n",
       "      <th>SSN</th>\n",
       "      <th>Occupation</th>\n",
       "      <th>Annual_Income</th>\n",
       "      <th>Monthly_Inhand_Salary</th>\n",
       "      <th>Num_Bank_Accounts</th>\n",
       "      <th>...</th>\n",
       "      <th>Credit_Mix</th>\n",
       "      <th>Outstanding_Debt</th>\n",
       "      <th>Credit_Utilization_Ratio</th>\n",
       "      <th>Credit_History_Age</th>\n",
       "      <th>Payment_of_Min_Amount</th>\n",
       "      <th>Total_EMI_per_month</th>\n",
       "      <th>Amount_invested_monthly</th>\n",
       "      <th>Payment_Behaviour</th>\n",
       "      <th>Monthly_Balance</th>\n",
       "      <th>Credit_Score</th>\n",
       "    </tr>\n",
       "  </thead>\n",
       "  <tbody>\n",
       "    <tr>\n",
       "      <th>0</th>\n",
       "      <td>0x1602</td>\n",
       "      <td>CUS_0xd40</td>\n",
       "      <td>January</td>\n",
       "      <td>Aaron Maashoh</td>\n",
       "      <td>23</td>\n",
       "      <td>821-00-0265</td>\n",
       "      <td>Scientist</td>\n",
       "      <td>19114.12</td>\n",
       "      <td>1824.843333</td>\n",
       "      <td>3</td>\n",
       "      <td>...</td>\n",
       "      <td>_</td>\n",
       "      <td>809.98</td>\n",
       "      <td>26.822620</td>\n",
       "      <td>22 Years and 1 Months</td>\n",
       "      <td>No</td>\n",
       "      <td>49.574949</td>\n",
       "      <td>80.41529544</td>\n",
       "      <td>High_spent_Small_value_payments</td>\n",
       "      <td>312.4940887</td>\n",
       "      <td>Good</td>\n",
       "    </tr>\n",
       "    <tr>\n",
       "      <th>1</th>\n",
       "      <td>0x1603</td>\n",
       "      <td>CUS_0xd40</td>\n",
       "      <td>February</td>\n",
       "      <td>Aaron Maashoh</td>\n",
       "      <td>23</td>\n",
       "      <td>821-00-0265</td>\n",
       "      <td>Scientist</td>\n",
       "      <td>19114.12</td>\n",
       "      <td>NaN</td>\n",
       "      <td>3</td>\n",
       "      <td>...</td>\n",
       "      <td>Good</td>\n",
       "      <td>809.98</td>\n",
       "      <td>31.944960</td>\n",
       "      <td>NaN</td>\n",
       "      <td>No</td>\n",
       "      <td>49.574949</td>\n",
       "      <td>118.2802216</td>\n",
       "      <td>Low_spent_Large_value_payments</td>\n",
       "      <td>284.6291625</td>\n",
       "      <td>Good</td>\n",
       "    </tr>\n",
       "    <tr>\n",
       "      <th>2</th>\n",
       "      <td>0x1604</td>\n",
       "      <td>CUS_0xd40</td>\n",
       "      <td>March</td>\n",
       "      <td>Aaron Maashoh</td>\n",
       "      <td>-500</td>\n",
       "      <td>821-00-0265</td>\n",
       "      <td>Scientist</td>\n",
       "      <td>19114.12</td>\n",
       "      <td>NaN</td>\n",
       "      <td>3</td>\n",
       "      <td>...</td>\n",
       "      <td>Good</td>\n",
       "      <td>809.98</td>\n",
       "      <td>28.609352</td>\n",
       "      <td>22 Years and 3 Months</td>\n",
       "      <td>No</td>\n",
       "      <td>49.574949</td>\n",
       "      <td>81.69952126</td>\n",
       "      <td>Low_spent_Medium_value_payments</td>\n",
       "      <td>331.2098629</td>\n",
       "      <td>Good</td>\n",
       "    </tr>\n",
       "    <tr>\n",
       "      <th>3</th>\n",
       "      <td>0x1605</td>\n",
       "      <td>CUS_0xd40</td>\n",
       "      <td>April</td>\n",
       "      <td>Aaron Maashoh</td>\n",
       "      <td>23</td>\n",
       "      <td>821-00-0265</td>\n",
       "      <td>Scientist</td>\n",
       "      <td>19114.12</td>\n",
       "      <td>NaN</td>\n",
       "      <td>3</td>\n",
       "      <td>...</td>\n",
       "      <td>Good</td>\n",
       "      <td>809.98</td>\n",
       "      <td>31.377862</td>\n",
       "      <td>22 Years and 4 Months</td>\n",
       "      <td>No</td>\n",
       "      <td>49.574949</td>\n",
       "      <td>199.4580744</td>\n",
       "      <td>Low_spent_Small_value_payments</td>\n",
       "      <td>223.4513097</td>\n",
       "      <td>Good</td>\n",
       "    </tr>\n",
       "    <tr>\n",
       "      <th>4</th>\n",
       "      <td>0x1606</td>\n",
       "      <td>CUS_0xd40</td>\n",
       "      <td>May</td>\n",
       "      <td>Aaron Maashoh</td>\n",
       "      <td>23</td>\n",
       "      <td>821-00-0265</td>\n",
       "      <td>Scientist</td>\n",
       "      <td>19114.12</td>\n",
       "      <td>1824.843333</td>\n",
       "      <td>3</td>\n",
       "      <td>...</td>\n",
       "      <td>Good</td>\n",
       "      <td>809.98</td>\n",
       "      <td>24.797347</td>\n",
       "      <td>22 Years and 5 Months</td>\n",
       "      <td>No</td>\n",
       "      <td>49.574949</td>\n",
       "      <td>41.42015309</td>\n",
       "      <td>High_spent_Medium_value_payments</td>\n",
       "      <td>341.489231</td>\n",
       "      <td>Good</td>\n",
       "    </tr>\n",
       "  </tbody>\n",
       "</table>\n",
       "<p>5 rows × 28 columns</p>\n",
       "</div>"
      ],
      "text/plain": [
       "       ID Customer_ID     Month           Name   Age          SSN Occupation  \\\n",
       "0  0x1602   CUS_0xd40   January  Aaron Maashoh    23  821-00-0265  Scientist   \n",
       "1  0x1603   CUS_0xd40  February  Aaron Maashoh    23  821-00-0265  Scientist   \n",
       "2  0x1604   CUS_0xd40     March  Aaron Maashoh  -500  821-00-0265  Scientist   \n",
       "3  0x1605   CUS_0xd40     April  Aaron Maashoh    23  821-00-0265  Scientist   \n",
       "4  0x1606   CUS_0xd40       May  Aaron Maashoh    23  821-00-0265  Scientist   \n",
       "\n",
       "  Annual_Income  Monthly_Inhand_Salary  Num_Bank_Accounts  ...  Credit_Mix  \\\n",
       "0      19114.12            1824.843333                  3  ...           _   \n",
       "1      19114.12                    NaN                  3  ...        Good   \n",
       "2      19114.12                    NaN                  3  ...        Good   \n",
       "3      19114.12                    NaN                  3  ...        Good   \n",
       "4      19114.12            1824.843333                  3  ...        Good   \n",
       "\n",
       "   Outstanding_Debt Credit_Utilization_Ratio     Credit_History_Age  \\\n",
       "0            809.98                26.822620  22 Years and 1 Months   \n",
       "1            809.98                31.944960                    NaN   \n",
       "2            809.98                28.609352  22 Years and 3 Months   \n",
       "3            809.98                31.377862  22 Years and 4 Months   \n",
       "4            809.98                24.797347  22 Years and 5 Months   \n",
       "\n",
       "   Payment_of_Min_Amount Total_EMI_per_month Amount_invested_monthly  \\\n",
       "0                     No           49.574949             80.41529544   \n",
       "1                     No           49.574949             118.2802216   \n",
       "2                     No           49.574949             81.69952126   \n",
       "3                     No           49.574949             199.4580744   \n",
       "4                     No           49.574949             41.42015309   \n",
       "\n",
       "                  Payment_Behaviour Monthly_Balance Credit_Score  \n",
       "0   High_spent_Small_value_payments     312.4940887         Good  \n",
       "1    Low_spent_Large_value_payments     284.6291625         Good  \n",
       "2   Low_spent_Medium_value_payments     331.2098629         Good  \n",
       "3    Low_spent_Small_value_payments     223.4513097         Good  \n",
       "4  High_spent_Medium_value_payments      341.489231         Good  \n",
       "\n",
       "[5 rows x 28 columns]"
      ]
     },
     "execution_count": 2,
     "metadata": {},
     "output_type": "execute_result"
    }
   ],
   "source": [
    "#Loading the data\n",
    "df=pd.read_csv('train.csv')\n",
    "df.head()"
   ]
  },
  {
   "cell_type": "code",
   "execution_count": 3,
   "id": "edfdaff6-9f40-4df2-be4b-b3aeef55843b",
   "metadata": {},
   "outputs": [
    {
     "data": {
      "text/plain": [
       "(100000, 28)"
      ]
     },
     "execution_count": 3,
     "metadata": {},
     "output_type": "execute_result"
    }
   ],
   "source": [
    "#checking data shape\n",
    "df.shape"
   ]
  },
  {
   "cell_type": "markdown",
   "id": "27172e54-e878-4e6f-88b3-f4f7666b98e7",
   "metadata": {},
   "source": [
    "`observation`\n",
    "- The dataset contains 100,000 entries, with each entry having 28 different attributes."
   ]
  },
  {
   "cell_type": "code",
   "execution_count": 4,
   "id": "f4fc2d48-cd34-40ae-b21f-f487c388f871",
   "metadata": {},
   "outputs": [
    {
     "name": "stdout",
     "output_type": "stream",
     "text": [
      "<class 'pandas.core.frame.DataFrame'>\n",
      "RangeIndex: 100000 entries, 0 to 99999\n",
      "Data columns (total 28 columns):\n",
      " #   Column                    Non-Null Count   Dtype  \n",
      "---  ------                    --------------   -----  \n",
      " 0   ID                        100000 non-null  object \n",
      " 1   Customer_ID               100000 non-null  object \n",
      " 2   Month                     100000 non-null  object \n",
      " 3   Name                      90015 non-null   object \n",
      " 4   Age                       100000 non-null  object \n",
      " 5   SSN                       100000 non-null  object \n",
      " 6   Occupation                100000 non-null  object \n",
      " 7   Annual_Income             100000 non-null  object \n",
      " 8   Monthly_Inhand_Salary     84998 non-null   float64\n",
      " 9   Num_Bank_Accounts         100000 non-null  int64  \n",
      " 10  Num_Credit_Card           100000 non-null  int64  \n",
      " 11  Interest_Rate             100000 non-null  int64  \n",
      " 12  Num_of_Loan               100000 non-null  object \n",
      " 13  Type_of_Loan              88592 non-null   object \n",
      " 14  Delay_from_due_date       100000 non-null  int64  \n",
      " 15  Num_of_Delayed_Payment    92998 non-null   object \n",
      " 16  Changed_Credit_Limit      100000 non-null  object \n",
      " 17  Num_Credit_Inquiries      98035 non-null   float64\n",
      " 18  Credit_Mix                100000 non-null  object \n",
      " 19  Outstanding_Debt          100000 non-null  object \n",
      " 20  Credit_Utilization_Ratio  100000 non-null  float64\n",
      " 21  Credit_History_Age        90970 non-null   object \n",
      " 22  Payment_of_Min_Amount     100000 non-null  object \n",
      " 23  Total_EMI_per_month       100000 non-null  float64\n",
      " 24  Amount_invested_monthly   95521 non-null   object \n",
      " 25  Payment_Behaviour         100000 non-null  object \n",
      " 26  Monthly_Balance           98800 non-null   object \n",
      " 27  Credit_Score              100000 non-null  object \n",
      "dtypes: float64(4), int64(4), object(20)\n",
      "memory usage: 21.4+ MB\n"
     ]
    }
   ],
   "source": [
    "#checking data information\n",
    "df.info()"
   ]
  },
  {
   "cell_type": "code",
   "execution_count": 5,
   "id": "33719fc8-ea92-4683-9dc5-55709a8d869c",
   "metadata": {},
   "outputs": [
    {
     "data": {
      "text/html": [
       "<div>\n",
       "<style scoped>\n",
       "    .dataframe tbody tr th:only-of-type {\n",
       "        vertical-align: middle;\n",
       "    }\n",
       "\n",
       "    .dataframe tbody tr th {\n",
       "        vertical-align: top;\n",
       "    }\n",
       "\n",
       "    .dataframe thead th {\n",
       "        text-align: right;\n",
       "    }\n",
       "</style>\n",
       "<table border=\"1\" class=\"dataframe\">\n",
       "  <thead>\n",
       "    <tr style=\"text-align: right;\">\n",
       "      <th></th>\n",
       "      <th>Monthly_Inhand_Salary</th>\n",
       "      <th>Num_Bank_Accounts</th>\n",
       "      <th>Num_Credit_Card</th>\n",
       "      <th>Interest_Rate</th>\n",
       "      <th>Delay_from_due_date</th>\n",
       "      <th>Num_Credit_Inquiries</th>\n",
       "      <th>Credit_Utilization_Ratio</th>\n",
       "      <th>Total_EMI_per_month</th>\n",
       "    </tr>\n",
       "  </thead>\n",
       "  <tbody>\n",
       "    <tr>\n",
       "      <th>count</th>\n",
       "      <td>84998.000000</td>\n",
       "      <td>100000.000000</td>\n",
       "      <td>100000.00000</td>\n",
       "      <td>100000.000000</td>\n",
       "      <td>100000.000000</td>\n",
       "      <td>98035.000000</td>\n",
       "      <td>100000.000000</td>\n",
       "      <td>100000.000000</td>\n",
       "    </tr>\n",
       "    <tr>\n",
       "      <th>mean</th>\n",
       "      <td>4194.170850</td>\n",
       "      <td>17.091280</td>\n",
       "      <td>22.47443</td>\n",
       "      <td>72.466040</td>\n",
       "      <td>21.068780</td>\n",
       "      <td>27.754251</td>\n",
       "      <td>32.285173</td>\n",
       "      <td>1403.118217</td>\n",
       "    </tr>\n",
       "    <tr>\n",
       "      <th>std</th>\n",
       "      <td>3183.686167</td>\n",
       "      <td>117.404834</td>\n",
       "      <td>129.05741</td>\n",
       "      <td>466.422621</td>\n",
       "      <td>14.860104</td>\n",
       "      <td>193.177339</td>\n",
       "      <td>5.116875</td>\n",
       "      <td>8306.041270</td>\n",
       "    </tr>\n",
       "    <tr>\n",
       "      <th>min</th>\n",
       "      <td>303.645417</td>\n",
       "      <td>-1.000000</td>\n",
       "      <td>0.00000</td>\n",
       "      <td>1.000000</td>\n",
       "      <td>-5.000000</td>\n",
       "      <td>0.000000</td>\n",
       "      <td>20.000000</td>\n",
       "      <td>0.000000</td>\n",
       "    </tr>\n",
       "    <tr>\n",
       "      <th>25%</th>\n",
       "      <td>1625.568229</td>\n",
       "      <td>3.000000</td>\n",
       "      <td>4.00000</td>\n",
       "      <td>8.000000</td>\n",
       "      <td>10.000000</td>\n",
       "      <td>3.000000</td>\n",
       "      <td>28.052567</td>\n",
       "      <td>30.306660</td>\n",
       "    </tr>\n",
       "    <tr>\n",
       "      <th>50%</th>\n",
       "      <td>3093.745000</td>\n",
       "      <td>6.000000</td>\n",
       "      <td>5.00000</td>\n",
       "      <td>13.000000</td>\n",
       "      <td>18.000000</td>\n",
       "      <td>6.000000</td>\n",
       "      <td>32.305784</td>\n",
       "      <td>69.249473</td>\n",
       "    </tr>\n",
       "    <tr>\n",
       "      <th>75%</th>\n",
       "      <td>5957.448333</td>\n",
       "      <td>7.000000</td>\n",
       "      <td>7.00000</td>\n",
       "      <td>20.000000</td>\n",
       "      <td>28.000000</td>\n",
       "      <td>9.000000</td>\n",
       "      <td>36.496663</td>\n",
       "      <td>161.224249</td>\n",
       "    </tr>\n",
       "    <tr>\n",
       "      <th>max</th>\n",
       "      <td>15204.633330</td>\n",
       "      <td>1798.000000</td>\n",
       "      <td>1499.00000</td>\n",
       "      <td>5797.000000</td>\n",
       "      <td>67.000000</td>\n",
       "      <td>2597.000000</td>\n",
       "      <td>50.000000</td>\n",
       "      <td>82331.000000</td>\n",
       "    </tr>\n",
       "  </tbody>\n",
       "</table>\n",
       "</div>"
      ],
      "text/plain": [
       "       Monthly_Inhand_Salary  Num_Bank_Accounts  Num_Credit_Card  \\\n",
       "count           84998.000000      100000.000000     100000.00000   \n",
       "mean             4194.170850          17.091280         22.47443   \n",
       "std              3183.686167         117.404834        129.05741   \n",
       "min               303.645417          -1.000000          0.00000   \n",
       "25%              1625.568229           3.000000          4.00000   \n",
       "50%              3093.745000           6.000000          5.00000   \n",
       "75%              5957.448333           7.000000          7.00000   \n",
       "max             15204.633330        1798.000000       1499.00000   \n",
       "\n",
       "       Interest_Rate  Delay_from_due_date  Num_Credit_Inquiries  \\\n",
       "count  100000.000000        100000.000000          98035.000000   \n",
       "mean       72.466040            21.068780             27.754251   \n",
       "std       466.422621            14.860104            193.177339   \n",
       "min         1.000000            -5.000000              0.000000   \n",
       "25%         8.000000            10.000000              3.000000   \n",
       "50%        13.000000            18.000000              6.000000   \n",
       "75%        20.000000            28.000000              9.000000   \n",
       "max      5797.000000            67.000000           2597.000000   \n",
       "\n",
       "       Credit_Utilization_Ratio  Total_EMI_per_month  \n",
       "count             100000.000000        100000.000000  \n",
       "mean                  32.285173          1403.118217  \n",
       "std                    5.116875          8306.041270  \n",
       "min                   20.000000             0.000000  \n",
       "25%                   28.052567            30.306660  \n",
       "50%                   32.305784            69.249473  \n",
       "75%                   36.496663           161.224249  \n",
       "max                   50.000000         82331.000000  "
      ]
     },
     "execution_count": 5,
     "metadata": {},
     "output_type": "execute_result"
    }
   ],
   "source": [
    "#checking for statistical summary\n",
    "df.describe()"
   ]
  },
  {
   "cell_type": "markdown",
   "id": "0ea00156-b3e5-4928-a0f5-53b49d8b0f3e",
   "metadata": {},
   "source": [
    "`OBSERVATION`\n",
    "\n",
    "### Monthly_Inhand_Salary:\n",
    "- Average (Mean): Around 4,194 units, which represents the typical monthly in-hand salary.\n",
    "- Range: From a minimum of 303 to a maximum of 15,204, showing a wide disparity in income.\n",
    "- Variability: The large standard deviation (3,183) indicates that salary figures vary significantly across the dataset, with some individuals earning very little and others earning a lot more.\n",
    "### Num_Bank_Accounts:\n",
    "- Average: Around 17 bank accounts, which seems unusually high, suggesting potential outliers.\n",
    "- Range: Between -1 (an impossible number, indicating data error) and 1,798 accounts, another sign of data anomalies.\n",
    "- Conclusion: The large variability (std = 117) and the presence of outliers require further investigation and possibly data cleaning.\n",
    "### Num_Credit_Card:\n",
    "- Average of 22 credit cards, which also seems abnormally high.\n",
    "- Range of 0 to 1,499, again indicating extreme outliers.\n",
    "- This data feature likely includes many unrealistic values and will need cleaning, especially since most people likely have far fewer than 22 credit cards.\n",
    "### Interest_Rate:\n",
    "- Average of 72.47%, which is high for typical loan interest rates, indicating potential issues with the data or inclusion of non-standard loans.\n",
    "- Range of From 1% to 5,797%, where the maximum is unrealistic, suggesting outliers or data errors.\n",
    "- The high variability (std = 466) implies the need to investigate extreme values and potential data inaccuracies.\n",
    "### Delay_from_due_date:\n",
    "- Average of21 days, indicating that, on average, customers pay their bills about 3 weeks late.\n",
    "- Range from -5 days (early payments) to 67 days late.\n",
    "- This feature seems reasonable, although the presence of negative values should be examined.\n",
    "### Num_Credit_Inquiries:\n",
    "- Average of 27.75 credit inquiries, which seems high.\n",
    "- Range from 0 to 2,597, with extreme outliers skewing the data.\n",
    "- The majority of individuals likely have far fewer inquiries, as indicated by the median (6), but there are significant outliers.\n",
    "### Credit_Utilization_Ratio:\n",
    "- Average of 32.29%, meaning most people use around a third of their available credit, which is considered healthy.\n",
    "- Range from 20% to 50%, with minimal outliers.\n",
    "- This feature appears well-behaved with little variability and no major outliers.\n",
    "### Total_EMI_per_month:\n",
    "- Average of 1,403 units, indicating a relatively high average monthly loan repayment.\n",
    "- Range from 0 to 82,331, with extreme outliers at the high end, inflating the average.\n",
    "- There are significant outliers, and most customers likely pay much smaller monthly EMIs (as seen by the 50th percentile = 69.25 units).\n"
   ]
  },
  {
   "cell_type": "markdown",
   "id": "a08d2f60-79c9-44d8-982e-a98828578469",
   "metadata": {},
   "source": [
    "## DATA PREPROCESSING\n",
    "\n",
    "### Data Preparation"
   ]
  },
  {
   "cell_type": "markdown",
   "id": "fe8853df-c0cc-422e-bbfa-1aedcdd456ab",
   "metadata": {},
   "source": [
    "### Consistency"
   ]
  },
  {
   "cell_type": "code",
   "execution_count": 6,
   "id": "4ebf78ef-d50b-41c4-95c4-828fe7f18696",
   "metadata": {},
   "outputs": [
    {
     "name": "stdout",
     "output_type": "stream",
     "text": [
      "The data has 0 duplicates\n"
     ]
    }
   ],
   "source": [
    "# checking for duplicates\n",
    "print(f'The data has {df.duplicated().sum()} duplicates')"
   ]
  },
  {
   "cell_type": "markdown",
   "id": "058e36cc-4207-4ca6-b6d7-9d21b77ae2b5",
   "metadata": {},
   "source": [
    "### Completeness\n",
    "To achieve completeness in our data, I will be checking for missing values in the data."
   ]
  },
  {
   "cell_type": "code",
   "execution_count": 7,
   "id": "01a0fcb2-4b23-4016-82ef-31593ec8d86a",
   "metadata": {},
   "outputs": [
    {
     "name": "stdout",
     "output_type": "stream",
     "text": [
      "The data has 60071 missing values\n"
     ]
    }
   ],
   "source": [
    "# Check for null values\n",
    "print(f'The data has {df.isna().sum().sum()} missing values')"
   ]
  },
  {
   "cell_type": "code",
   "execution_count": 8,
   "id": "4f64c77f-a22b-4d91-83d9-3a7d58611512",
   "metadata": {},
   "outputs": [],
   "source": [
    "# Define a function to explore missing data\n",
    "def missing_data(df):\n",
    "    missing_data = df.isna().sum()\n",
    "    missing_data = missing_data[missing_data>0]\n",
    "    return missing_data.to_frame()"
   ]
  },
  {
   "cell_type": "code",
   "execution_count": 9,
   "id": "d23c5bb2-817d-4180-8a8c-0e31751525f7",
   "metadata": {},
   "outputs": [
    {
     "data": {
      "text/html": [
       "<div>\n",
       "<style scoped>\n",
       "    .dataframe tbody tr th:only-of-type {\n",
       "        vertical-align: middle;\n",
       "    }\n",
       "\n",
       "    .dataframe tbody tr th {\n",
       "        vertical-align: top;\n",
       "    }\n",
       "\n",
       "    .dataframe thead th {\n",
       "        text-align: right;\n",
       "    }\n",
       "</style>\n",
       "<table border=\"1\" class=\"dataframe\">\n",
       "  <thead>\n",
       "    <tr style=\"text-align: right;\">\n",
       "      <th></th>\n",
       "      <th>0</th>\n",
       "    </tr>\n",
       "  </thead>\n",
       "  <tbody>\n",
       "    <tr>\n",
       "      <th>Name</th>\n",
       "      <td>9985</td>\n",
       "    </tr>\n",
       "    <tr>\n",
       "      <th>Monthly_Inhand_Salary</th>\n",
       "      <td>15002</td>\n",
       "    </tr>\n",
       "    <tr>\n",
       "      <th>Type_of_Loan</th>\n",
       "      <td>11408</td>\n",
       "    </tr>\n",
       "    <tr>\n",
       "      <th>Num_of_Delayed_Payment</th>\n",
       "      <td>7002</td>\n",
       "    </tr>\n",
       "    <tr>\n",
       "      <th>Num_Credit_Inquiries</th>\n",
       "      <td>1965</td>\n",
       "    </tr>\n",
       "    <tr>\n",
       "      <th>Credit_History_Age</th>\n",
       "      <td>9030</td>\n",
       "    </tr>\n",
       "    <tr>\n",
       "      <th>Amount_invested_monthly</th>\n",
       "      <td>4479</td>\n",
       "    </tr>\n",
       "    <tr>\n",
       "      <th>Monthly_Balance</th>\n",
       "      <td>1200</td>\n",
       "    </tr>\n",
       "  </tbody>\n",
       "</table>\n",
       "</div>"
      ],
      "text/plain": [
       "                             0\n",
       "Name                      9985\n",
       "Monthly_Inhand_Salary    15002\n",
       "Type_of_Loan             11408\n",
       "Num_of_Delayed_Payment    7002\n",
       "Num_Credit_Inquiries      1965\n",
       "Credit_History_Age        9030\n",
       "Amount_invested_monthly   4479\n",
       "Monthly_Balance           1200"
      ]
     },
     "execution_count": 9,
     "metadata": {},
     "output_type": "execute_result"
    }
   ],
   "source": [
    "missing_data(df)"
   ]
  },
  {
   "cell_type": "markdown",
   "id": "a6e2156c-af93-4ac0-8808-fe5d5c823a81",
   "metadata": {},
   "source": [
    "`Observation`\n",
    "- The columns have a number of missing values.handling missing data can improve model accuracy and ensure all records are usable in analysis."
   ]
  },
  {
   "cell_type": "code",
   "execution_count": 10,
   "id": "ac7a2c6b-d1b6-46d1-808d-a69e366063a5",
   "metadata": {},
   "outputs": [],
   "source": [
    "# Fill missing values for numerical columns with mean\n",
    "df['Monthly_Inhand_Salary'] = df['Monthly_Inhand_Salary'].fillna(df['Monthly_Inhand_Salary'].mean())\n",
    "df['Num_Credit_Inquiries'] = df['Num_Credit_Inquiries'].fillna(df['Num_Credit_Inquiries'].mean())"
   ]
  },
  {
   "cell_type": "code",
   "execution_count": 11,
   "id": "4f09aaae-89b3-477f-8439-8916b70d7a74",
   "metadata": {},
   "outputs": [],
   "source": [
    "df['Monthly_Balance'] = pd.to_numeric(df['Monthly_Balance'], errors='coerce')\n",
    "df['Monthly_Balance'] = df['Monthly_Balance'].fillna(df['Monthly_Balance'].mean())"
   ]
  },
  {
   "cell_type": "code",
   "execution_count": 12,
   "id": "408cb4bd-7b0a-4385-8d1c-5a44a1eb42ee",
   "metadata": {},
   "outputs": [],
   "source": [
    "df['Num_of_Delayed_Payment'] = pd.to_numeric(df['Num_of_Delayed_Payment'],errors='coerce')\n",
    "df['Num_of_Delayed_Payment'] = df['Num_of_Delayed_Payment'].fillna(df['Num_of_Delayed_Payment'].mean())"
   ]
  },
  {
   "cell_type": "code",
   "execution_count": 13,
   "id": "69f308fb-42a2-422c-9537-1e80df1a3d13",
   "metadata": {},
   "outputs": [],
   "source": [
    "df['Amount_invested_monthly'] = pd.to_numeric(df['Amount_invested_monthly'],errors='coerce')\n",
    "df['Amount_invested_monthly'] = df['Amount_invested_monthly'].fillna(df['Amount_invested_monthly'].mean())"
   ]
  },
  {
   "cell_type": "code",
   "execution_count": 14,
   "id": "6d971c6f-bd0c-484f-90c8-b8dc0494e01f",
   "metadata": {},
   "outputs": [],
   "source": [
    "#Removing rows that have null values\n",
    "df=df.dropna(subset=['Name','Type_of_Loan','Credit_History_Age'])"
   ]
  },
  {
   "cell_type": "code",
   "execution_count": 15,
   "id": "94867a06-384d-4a37-8011-edab9403da61",
   "metadata": {},
   "outputs": [
    {
     "data": {
      "text/plain": [
       "Payment_of_Min_Amount\n",
       "Yes    40519\n",
       "No     23258\n",
       "NM      8727\n",
       "Name: count, dtype: int64"
      ]
     },
     "execution_count": 15,
     "metadata": {},
     "output_type": "execute_result"
    }
   ],
   "source": [
    "# counting values in Payment_of_Min_Amount\n",
    "df['Payment_of_Min_Amount'].value_counts()"
   ]
  },
  {
   "cell_type": "code",
   "execution_count": 16,
   "id": "957e41dc-4429-4708-ae1e-d4e20c55c0ea",
   "metadata": {},
   "outputs": [],
   "source": [
    "#removing unwanted values in `Payment_of_Min_Amount` column\n",
    "df['Payment_of_Min_Amount'] = df['Payment_of_Min_Amount'].apply(lambda x : 'No' if x == 'NM' else x)"
   ]
  },
  {
   "cell_type": "code",
   "execution_count": 17,
   "id": "ca7e8af9-b4fa-47a9-a693-380e0cefdb00",
   "metadata": {},
   "outputs": [
    {
     "data": {
      "text/plain": [
       "Credit_Mix\n",
       "Standard    26536\n",
       "Good        15865\n",
       "Bad         15573\n",
       "_           14530\n",
       "Name: count, dtype: int64"
      ]
     },
     "execution_count": 17,
     "metadata": {},
     "output_type": "execute_result"
    }
   ],
   "source": [
    "# counting values in `Credit_Mix`\n",
    "df[\"Credit_Mix\"].value_counts()"
   ]
  },
  {
   "cell_type": "code",
   "execution_count": 18,
   "id": "de9570b2-6342-4a69-bed9-f4a7f58e4506",
   "metadata": {},
   "outputs": [],
   "source": [
    "#replacing underscores  \"Unknown\"\n",
    "df[\"Credit_Mix\"] = df[\"Credit_Mix\"].str.replace(\"_\" , \"Unknown\")"
   ]
  },
  {
   "cell_type": "code",
   "execution_count": 19,
   "id": "5e784952-e93d-4039-8a1f-e1e7b52aa2a4",
   "metadata": {},
   "outputs": [
    {
     "data": {
      "text/plain": [
       "Credit_Mix\n",
       "Standard    26536\n",
       "Good        15865\n",
       "Bad         15573\n",
       "Unknown     14530\n",
       "Name: count, dtype: int64"
      ]
     },
     "execution_count": 19,
     "metadata": {},
     "output_type": "execute_result"
    }
   ],
   "source": [
    "df[\"Credit_Mix\"].value_counts()"
   ]
  },
  {
   "cell_type": "code",
   "execution_count": 20,
   "id": "09a1bd78-de98-413a-b2b9-ef845da4ad12",
   "metadata": {},
   "outputs": [
    {
     "data": {
      "text/plain": [
       "Occupation\n",
       "_______          5102\n",
       "Lawyer           4797\n",
       "Mechanic         4694\n",
       "Architect        4591\n",
       "Scientist        4568\n",
       "Engineer         4567\n",
       "Entrepreneur     4545\n",
       "Teacher          4544\n",
       "Doctor           4537\n",
       "Accountant       4519\n",
       "Developer        4484\n",
       "Media_Manager    4469\n",
       "Writer           4288\n",
       "Journalist       4284\n",
       "Manager          4260\n",
       "Musician         4255\n",
       "Name: count, dtype: int64"
      ]
     },
     "execution_count": 20,
     "metadata": {},
     "output_type": "execute_result"
    }
   ],
   "source": [
    "df[\"Occupation\"].value_counts()"
   ]
  },
  {
   "cell_type": "code",
   "execution_count": 21,
   "id": "9da83f57-a453-4fc5-9c35-169a80b59ba4",
   "metadata": {},
   "outputs": [],
   "source": [
    "#replacing the underscore with other\n",
    "df[\"Occupation\"] = df[\"Occupation\"].str.replace(\"_______\" , \"Other\")"
   ]
  },
  {
   "cell_type": "code",
   "execution_count": 22,
   "id": "bb127bc2-86df-4e60-b689-b0ad8be04171",
   "metadata": {},
   "outputs": [],
   "source": [
    "#removing the rows with the invalid values\n",
    "df = df[df[\"Payment_Behaviour\"] != \"!@9#%8\"]"
   ]
  },
  {
   "cell_type": "markdown",
   "id": "f7ae5bce-600c-4532-8d22-372694daeeed",
   "metadata": {},
   "source": [
    "### Uniformity"
   ]
  },
  {
   "cell_type": "code",
   "execution_count": 23,
   "id": "4b4c70e5-9080-4951-bb7d-7510beb27f73",
   "metadata": {},
   "outputs": [
    {
     "data": {
      "text/plain": [
       "ID                           object\n",
       "Customer_ID                  object\n",
       "Month                        object\n",
       "Name                         object\n",
       "Age                          object\n",
       "SSN                          object\n",
       "Occupation                   object\n",
       "Annual_Income                object\n",
       "Monthly_Inhand_Salary       float64\n",
       "Num_Bank_Accounts             int64\n",
       "Num_Credit_Card               int64\n",
       "Interest_Rate                 int64\n",
       "Num_of_Loan                  object\n",
       "Type_of_Loan                 object\n",
       "Delay_from_due_date           int64\n",
       "Num_of_Delayed_Payment      float64\n",
       "Changed_Credit_Limit         object\n",
       "Num_Credit_Inquiries        float64\n",
       "Credit_Mix                   object\n",
       "Outstanding_Debt             object\n",
       "Credit_Utilization_Ratio    float64\n",
       "Credit_History_Age           object\n",
       "Payment_of_Min_Amount        object\n",
       "Total_EMI_per_month         float64\n",
       "Amount_invested_monthly     float64\n",
       "Payment_Behaviour            object\n",
       "Monthly_Balance             float64\n",
       "Credit_Score                 object\n",
       "dtype: object"
      ]
     },
     "execution_count": 23,
     "metadata": {},
     "output_type": "execute_result"
    }
   ],
   "source": [
    "# checking for dat types\n",
    "df.dtypes"
   ]
  },
  {
   "cell_type": "code",
   "execution_count": 24,
   "id": "3cb33fc3-641b-4c1b-a40b-54a918edcc6e",
   "metadata": {},
   "outputs": [],
   "source": [
    "# Convert 'Age' and 'Num_of_Loan' to int\n",
    "df[\"Age\"] = df[\"Age\"].str.replace(\"-\" , \"\").str.replace(\"_\" , \"\").astype(\"int\")\n",
    "df[\"Num_of_Loan\"] = df[\"Num_of_Loan\"].str.replace(\"_\" , \"\").str.replace(\"-\" , \"\").astype(\"int\")"
   ]
  },
  {
   "cell_type": "code",
   "execution_count": 25,
   "id": "2ee3e5a3-0908-4e94-a414-5450a6294b83",
   "metadata": {},
   "outputs": [],
   "source": [
    "# Converting the column to float\n",
    "df[\"Annual_Income\"] = df[\"Annual_Income\"].str.replace(\"_\" , \"\").astype(\"float\")\n",
    "df[\"Outstanding_Debt\"] = df[\"Outstanding_Debt\"].str.replace(\"_\" , \"\").astype(\"float\")"
   ]
  },
  {
   "cell_type": "code",
   "execution_count": 26,
   "id": "11db1d0a-60d2-48ac-823a-85977584b0d3",
   "metadata": {},
   "outputs": [
    {
     "name": "stdout",
     "output_type": "stream",
     "text": [
      "Annual_Income       float64\n",
      "Outstanding_Debt    float64\n",
      "dtype: object\n"
     ]
    }
   ],
   "source": [
    "# Check for remaining errors\n",
    "print(df[['Annual_Income', 'Outstanding_Debt']].dtypes)"
   ]
  },
  {
   "cell_type": "code",
   "execution_count": 27,
   "id": "79a41b86-392c-49db-8feb-b249f9e55390",
   "metadata": {},
   "outputs": [],
   "source": [
    "#droping rows where Age value is greater than 100\n",
    "df.drop(df[df[\"Age\"] > 100].index , inplace=True)"
   ]
  },
  {
   "cell_type": "markdown",
   "id": "215a2008-9889-4a0f-ac9c-e5581077da59",
   "metadata": {},
   "source": [
    "### Exploratory data analysis"
   ]
  },
  {
   "cell_type": "markdown",
   "id": "cd61e4f3-1a18-41d5-a971-a455d6550904",
   "metadata": {},
   "source": [
    "#### Checking for outstanding debt distribution per month"
   ]
  },
  {
   "cell_type": "code",
   "execution_count": 28,
   "id": "8ebb3948-6e42-41de-ad0e-8dc6900c5e9b",
   "metadata": {},
   "outputs": [
    {
     "data": {
      "image/png": "[encoded data removed]",
      "text/plain": [
       "<Figure size 1200x600 with 1 Axes>"
      ]
     },
     "metadata": {},
     "output_type": "display_data"
    }
   ],
   "source": [
    "# Set the style for the plot\n",
    "sns.set(style='whitegrid')\n",
    "\n",
    "# Creating a bar plot for the average outstanding debt per month\n",
    "plt.figure(figsize=(12, 6))\n",
    "sns.barplot(data=df, x='Month', y='Outstanding_Debt', estimator=np.mean, ci=None, palette='viridis')\n",
    "\n",
    "# Adding title and labels\n",
    "plt.title('Average Outstanding Debt per Month')\n",
    "plt.xlabel('Month')\n",
    "plt.ylabel('Average Outstanding Debt')\n",
    "\n",
    "# Rotate x-axis labels for better visibility\n",
    "plt.xticks(rotation=45)\n",
    "\n",
    "# Tight layout to prevent overlapping\n",
    "plt.tight_layout()\n",
    "\n",
    "# Remove grid lines\n",
    "plt.grid(False)\n",
    "\n",
    "# Show the plot\n",
    "plt.show()\n"
   ]
  },
  {
   "cell_type": "markdown",
   "id": "af267aa7-c421-4207-9d67-21d91ac7b57b",
   "metadata": {},
   "source": [
    "`Observation`\n",
    "- The heights of the bars are quite similar across all months, indicating that the average outstanding debt remained fairly consistent from January to August. There’s no significant spike or drop, which suggests a stable debt level month-to-month.\n",
    "- This might suggest that there were no major financial changes or shifts in payment behaviors among customers."
   ]
  },
  {
   "cell_type": "markdown",
   "id": "8df6636f-42f3-4423-8b00-b4d3dad6b0d9",
   "metadata": {},
   "source": [
    "### Distribution of payment Behaviors"
   ]
  },
  {
   "cell_type": "code",
   "execution_count": 29,
   "id": "f61a0ea6-9d5a-475b-8d02-8097455cef04",
   "metadata": {},
   "outputs": [
    {
     "data": {
      "image/png": "[encoded data removed]",
      "text/plain": [
       "<Figure size 1200x700 with 1 Axes>"
      ]
     },
     "metadata": {},
     "output_type": "display_data"
    }
   ],
   "source": [
    "# Set the style of seaborn for better aesthetics\n",
    "sns.set(style=\"whitegrid\")\n",
    "\n",
    "# Count the occurrences of each payment behavior\n",
    "payment_behavior_counts = df['Payment_Behaviour'].value_counts()\n",
    "\n",
    "# Plot the distribution\n",
    "plt.figure(figsize=(12, 7))\n",
    "sns.barplot(x=payment_behavior_counts.index, y=payment_behavior_counts.values, palette=\"viridis\")\n",
    "plt.title(\"Distribution of Payment Behavior\")\n",
    "plt.xlabel(\"Payment Behavior\")\n",
    "plt.ylabel(\"Frequency\")\n",
    "plt.xticks(rotation=45)\n",
    "\n",
    "# Remove grid lines\n",
    "plt.grid(False)\n",
    "\n",
    "plt.show()"
   ]
  },
  {
   "cell_type": "markdown",
   "id": "28486b3a-6139-419d-bb2c-b6730fc32751",
   "metadata": {},
   "source": [
    "`Observation`\n",
    "\n",
    "- The \"Low_spent_Small_value_payments\" category has the highest frequency, with over 17,500 occurrences. This suggests that a significant portion of customers tend to make small payments while maintaining low spending. This could indicate conservative financial behavior or a tendency to minimize expenses.\n",
    "\n",
    "\n",
    "- \"High_spent_Medium_value_payments,\" has a frequency somewhat lower than the highest category. This implies that there is also a sizable group of customers who make medium-sized payments while maintaining relatively high spending habits. This behavior might be typical of individuals who manage larger expenses but still make regular payments.\n",
    "Lower Frequency of High-Spent, Large-Value Payments:\n",
    "\n",
    "- \"High_spent_Large_value_payments\" and \"Low_spent_Large_value_payments\" have relatively lower frequencies. These categories likely represent customers who either make large payments occasionally or manage finances in a less conventional way. These behaviors may be linked to higher income individuals or specific lifestyle choices.\n",
    "\n",
    "- The spread across the different types indicates diverse payment behavior in the customer base. Such variation can be valuable in analyzing creditworthiness or predicting financial risk, as different payment behaviors may correlate with varying levels of credit risk.\n",
    "\n",
    "- This distribution could inform strategies for personalized financial products. For example, targeting customers with \"Low_spent_Small_value_payments\" might require different strategies than those for \"High_spent_Large_value_payments.\""
   ]
  },
  {
   "cell_type": "markdown",
   "id": "e5e3ed59-9176-400b-b0e7-f120291ee657",
   "metadata": {},
   "source": [
    "#### Average outstanding debt by occupation"
   ]
  },
  {
   "cell_type": "code",
   "execution_count": 30,
   "id": "dbc184b6-9698-4ef8-909e-0c9576e9eb7b",
   "metadata": {},
   "outputs": [
    {
     "data": {
      "image/png": "[encoded data removed]",
      "text/plain": [
       "<Figure size 1000x600 with 1 Axes>"
      ]
     },
     "metadata": {},
     "output_type": "display_data"
    }
   ],
   "source": [
    "# Group by Occupation and calculate the average Outstanding Debt\n",
    "average_debt = df.groupby('Occupation')['Outstanding_Debt'].mean().reset_index()\n",
    "\n",
    "# Set a color palette with different colors for each occupation\n",
    "palette = sns.color_palette('husl', len(average_debt))\n",
    "\n",
    "# Plot the bar chart with different colors for each occupation\n",
    "plt.figure(figsize=(10, 6))\n",
    "sns.barplot(x='Occupation', y='Outstanding_Debt', data=average_debt, palette=palette, edgecolor='black')\n",
    "\n",
    "# Adding title and labels\n",
    "plt.title('Average Outstanding Debt by Occupation')\n",
    "plt.xlabel('Occupation')\n",
    "plt.ylabel('Average Outstanding Debt')\n",
    "\n",
    "# Rotate x-axis labels for better visibility\n",
    "plt.xticks(rotation=45)\n",
    "\n",
    "# Show grid on the y-axis\n",
    "plt.grid(axis='y', alpha=0.75)\n",
    "\n",
    "# Remove grid lines\n",
    "plt.grid(False)\n",
    "\n",
    "# Show the plot\n",
    "plt.tight_layout()\n",
    "plt.show()\n"
   ]
  },
  {
   "cell_type": "markdown",
   "id": "01255717-fb1e-44ca-a254-2b746f733ca7",
   "metadata": {},
   "source": [
    "`Key Observations`\n",
    "- Occupations such as Manager and Mechanic show relatively high average outstanding debt, with values approaching 1600. This could suggest that individuals in these professions tend to have higher loan obligations or other outstanding debts.\n",
    "Moderate Debt Levels:\n",
    "\n",
    "- Most other professions, including Doctor, Engineer, Developer, and Teacher, have similar average debt levels around 1400–1500. This indicates that many occupations have comparable debt obligations, with minor differences.\n",
    "Low Variability Across Occupations:\n",
    "\n",
    "- Overall, there isn't a drastic variation in average outstanding debt across the occupations. Most occupations fall within a close range of each other, suggesting that debt levels are generally consistent regardless of occupation."
   ]
  },
  {
   "cell_type": "markdown",
   "id": "5ad324dd-b2d8-4891-abe4-351d098eeec1",
   "metadata": {},
   "source": [
    "##### DISTRIBUTION OF CREDIT SCORE"
   ]
  },
  {
   "cell_type": "code",
   "execution_count": 31,
   "id": "d6c930e9-5eca-4ccc-93a6-b0e56fb463df",
   "metadata": {},
   "outputs": [
    {
     "data": {
      "image/png": "[encoded data removed]",
      "text/plain": [
       "<Figure size 800x600 with 1 Axes>"
      ]
     },
     "metadata": {},
     "output_type": "display_data"
    }
   ],
   "source": [
    "# Data for the credit scores\n",
    "credit_score_counts = [34319 ,20306, 10552]\n",
    "\n",
    "categories = ['Standard (2)', 'Poor (1)', 'Good (0)']\n",
    "\n",
    "# Create the bar plot\n",
    "plt.figure(figsize=(8,6))\n",
    "plt.bar(categories, credit_score_counts, color=['green', 'orange', 'red'])\n",
    "\n",
    "# Add titles and labels\n",
    "plt.title('Credit Score Distribution')\n",
    "plt.xlabel('Credit Score Category')\n",
    "plt.ylabel('Count')\n",
    "\n",
    "plt.grid(False)\n",
    "\n",
    "# Display the plot\n",
    "plt.show()"
   ]
  },
  {
   "cell_type": "markdown",
   "id": "fdcd5a40-beeb-43e4-95f8-2db8bae03c06",
   "metadata": {},
   "source": [
    "`Key Insights`\n",
    "- The majority of individuals have a \"Standard\" credit score, suggesting that the customer base is predominantly lower-risk.\n",
    "- The smaller group in the \"Poor\" category indicates fewer individuals with significant credit risks.\n",
    "- This distribution provides valuable insights for targeting financial products or interventions based on risk level, with a focus on the \"Good\" and \"Poor\" categories to potentially improve their creditworthiness."
   ]
  },
  {
   "cell_type": "markdown",
   "id": "30a2442b-069f-461b-b54d-7214b132a301",
   "metadata": {},
   "source": [
    "### Feature Engineering\n",
    "- Feature engineering transforms raw data into information-rich features that better capture the underlying patterns in the data by improving model accuracy"
   ]
  },
  {
   "cell_type": "code",
   "execution_count": 32,
   "id": "14118d43-105b-4131-bec3-8258956d1ee6",
   "metadata": {},
   "outputs": [],
   "source": [
    "# Function to convert 'Credit_History_Age' to total months\n",
    "def convert_credit_history_age(age_str):\n",
    "    # Split the string into parts\n",
    "    parts = age_str.split()\n",
    "    \n",
    "    # Extract years and months\n",
    "    years = int(parts[0])\n",
    "    months = int(parts[3])\n",
    "    \n",
    "    # Convert to total months\n",
    "    total_months = (years * 12) + months\n",
    "    return total_months\n",
    "\n",
    "# Applying the function to the column\n",
    "df['Credit_History_Age_in_Months'] = df['Credit_History_Age'].apply(convert_credit_history_age)"
   ]
  },
  {
   "cell_type": "code",
   "execution_count": 33,
   "id": "96bed5f2-5509-4cc9-b3f2-9f5533492ff7",
   "metadata": {},
   "outputs": [],
   "source": [
    "#droping Columns\n",
    "df.drop(['ID','Customer_ID','Name','SSN','Credit_History_Age','Type_of_Loan','Month','Num_Bank_Accounts','Num_Credit_Card','Changed_Credit_Limit'], axis=1, inplace=True)"
   ]
  },
  {
   "cell_type": "code",
   "execution_count": 34,
   "id": "8ece124a-d290-4eed-b7f2-467c35c7b9d0",
   "metadata": {},
   "outputs": [
    {
     "data": {
      "text/html": [
       "<div>\n",
       "<style scoped>\n",
       "    .dataframe tbody tr th:only-of-type {\n",
       "        vertical-align: middle;\n",
       "    }\n",
       "\n",
       "    .dataframe tbody tr th {\n",
       "        vertical-align: top;\n",
       "    }\n",
       "\n",
       "    .dataframe thead th {\n",
       "        text-align: right;\n",
       "    }\n",
       "</style>\n",
       "<table border=\"1\" class=\"dataframe\">\n",
       "  <thead>\n",
       "    <tr style=\"text-align: right;\">\n",
       "      <th></th>\n",
       "      <th>Age</th>\n",
       "      <th>Occupation</th>\n",
       "      <th>Annual_Income</th>\n",
       "      <th>Monthly_Inhand_Salary</th>\n",
       "      <th>Interest_Rate</th>\n",
       "      <th>Num_of_Loan</th>\n",
       "      <th>Delay_from_due_date</th>\n",
       "      <th>Num_of_Delayed_Payment</th>\n",
       "      <th>Num_Credit_Inquiries</th>\n",
       "      <th>Credit_Mix</th>\n",
       "      <th>Outstanding_Debt</th>\n",
       "      <th>Credit_Utilization_Ratio</th>\n",
       "      <th>Payment_of_Min_Amount</th>\n",
       "      <th>Total_EMI_per_month</th>\n",
       "      <th>Amount_invested_monthly</th>\n",
       "      <th>Payment_Behaviour</th>\n",
       "      <th>Monthly_Balance</th>\n",
       "      <th>Credit_Score</th>\n",
       "      <th>Credit_History_Age_in_Months</th>\n",
       "    </tr>\n",
       "  </thead>\n",
       "  <tbody>\n",
       "    <tr>\n",
       "      <th>0</th>\n",
       "      <td>23</td>\n",
       "      <td>Scientist</td>\n",
       "      <td>19114.12</td>\n",
       "      <td>1824.843333</td>\n",
       "      <td>3</td>\n",
       "      <td>4</td>\n",
       "      <td>3</td>\n",
       "      <td>7.000000</td>\n",
       "      <td>4.0</td>\n",
       "      <td>Unknown</td>\n",
       "      <td>809.98</td>\n",
       "      <td>26.822620</td>\n",
       "      <td>No</td>\n",
       "      <td>49.574949</td>\n",
       "      <td>80.415295</td>\n",
       "      <td>High_spent_Small_value_payments</td>\n",
       "      <td>312.494089</td>\n",
       "      <td>Good</td>\n",
       "      <td>265</td>\n",
       "    </tr>\n",
       "    <tr>\n",
       "      <th>3</th>\n",
       "      <td>23</td>\n",
       "      <td>Scientist</td>\n",
       "      <td>19114.12</td>\n",
       "      <td>4194.170850</td>\n",
       "      <td>3</td>\n",
       "      <td>4</td>\n",
       "      <td>5</td>\n",
       "      <td>4.000000</td>\n",
       "      <td>4.0</td>\n",
       "      <td>Good</td>\n",
       "      <td>809.98</td>\n",
       "      <td>31.377862</td>\n",
       "      <td>No</td>\n",
       "      <td>49.574949</td>\n",
       "      <td>199.458074</td>\n",
       "      <td>Low_spent_Small_value_payments</td>\n",
       "      <td>223.451310</td>\n",
       "      <td>Good</td>\n",
       "      <td>268</td>\n",
       "    </tr>\n",
       "    <tr>\n",
       "      <th>4</th>\n",
       "      <td>23</td>\n",
       "      <td>Scientist</td>\n",
       "      <td>19114.12</td>\n",
       "      <td>1824.843333</td>\n",
       "      <td>3</td>\n",
       "      <td>4</td>\n",
       "      <td>6</td>\n",
       "      <td>31.033051</td>\n",
       "      <td>4.0</td>\n",
       "      <td>Good</td>\n",
       "      <td>809.98</td>\n",
       "      <td>24.797347</td>\n",
       "      <td>No</td>\n",
       "      <td>49.574949</td>\n",
       "      <td>41.420153</td>\n",
       "      <td>High_spent_Medium_value_payments</td>\n",
       "      <td>341.489231</td>\n",
       "      <td>Good</td>\n",
       "      <td>269</td>\n",
       "    </tr>\n",
       "    <tr>\n",
       "      <th>6</th>\n",
       "      <td>23</td>\n",
       "      <td>Scientist</td>\n",
       "      <td>19114.12</td>\n",
       "      <td>1824.843333</td>\n",
       "      <td>3</td>\n",
       "      <td>4</td>\n",
       "      <td>3</td>\n",
       "      <td>31.033051</td>\n",
       "      <td>4.0</td>\n",
       "      <td>Good</td>\n",
       "      <td>809.98</td>\n",
       "      <td>22.537593</td>\n",
       "      <td>No</td>\n",
       "      <td>49.574949</td>\n",
       "      <td>178.344067</td>\n",
       "      <td>Low_spent_Small_value_payments</td>\n",
       "      <td>244.565317</td>\n",
       "      <td>Good</td>\n",
       "      <td>271</td>\n",
       "    </tr>\n",
       "    <tr>\n",
       "      <th>8</th>\n",
       "      <td>28</td>\n",
       "      <td>Other</td>\n",
       "      <td>34847.84</td>\n",
       "      <td>3037.986667</td>\n",
       "      <td>6</td>\n",
       "      <td>1</td>\n",
       "      <td>3</td>\n",
       "      <td>4.000000</td>\n",
       "      <td>2.0</td>\n",
       "      <td>Good</td>\n",
       "      <td>605.03</td>\n",
       "      <td>24.464031</td>\n",
       "      <td>No</td>\n",
       "      <td>18.816215</td>\n",
       "      <td>104.291825</td>\n",
       "      <td>Low_spent_Small_value_payments</td>\n",
       "      <td>470.690627</td>\n",
       "      <td>Standard</td>\n",
       "      <td>319</td>\n",
       "    </tr>\n",
       "  </tbody>\n",
       "</table>\n",
       "</div>"
      ],
      "text/plain": [
       "   Age Occupation  Annual_Income  Monthly_Inhand_Salary  Interest_Rate  \\\n",
       "0   23  Scientist       19114.12            1824.843333              3   \n",
       "3   23  Scientist       19114.12            4194.170850              3   \n",
       "4   23  Scientist       19114.12            1824.843333              3   \n",
       "6   23  Scientist       19114.12            1824.843333              3   \n",
       "8   28      Other       34847.84            3037.986667              6   \n",
       "\n",
       "   Num_of_Loan  Delay_from_due_date  Num_of_Delayed_Payment  \\\n",
       "0            4                    3                7.000000   \n",
       "3            4                    5                4.000000   \n",
       "4            4                    6               31.033051   \n",
       "6            4                    3               31.033051   \n",
       "8            1                    3                4.000000   \n",
       "\n",
       "   Num_Credit_Inquiries Credit_Mix  Outstanding_Debt  \\\n",
       "0                   4.0    Unknown            809.98   \n",
       "3                   4.0       Good            809.98   \n",
       "4                   4.0       Good            809.98   \n",
       "6                   4.0       Good            809.98   \n",
       "8                   2.0       Good            605.03   \n",
       "\n",
       "   Credit_Utilization_Ratio Payment_of_Min_Amount  Total_EMI_per_month  \\\n",
       "0                 26.822620                    No            49.574949   \n",
       "3                 31.377862                    No            49.574949   \n",
       "4                 24.797347                    No            49.574949   \n",
       "6                 22.537593                    No            49.574949   \n",
       "8                 24.464031                    No            18.816215   \n",
       "\n",
       "   Amount_invested_monthly                 Payment_Behaviour  Monthly_Balance  \\\n",
       "0                80.415295   High_spent_Small_value_payments       312.494089   \n",
       "3               199.458074    Low_spent_Small_value_payments       223.451310   \n",
       "4                41.420153  High_spent_Medium_value_payments       341.489231   \n",
       "6               178.344067    Low_spent_Small_value_payments       244.565317   \n",
       "8               104.291825    Low_spent_Small_value_payments       470.690627   \n",
       "\n",
       "  Credit_Score  Credit_History_Age_in_Months  \n",
       "0         Good                           265  \n",
       "3         Good                           268  \n",
       "4         Good                           269  \n",
       "6         Good                           271  \n",
       "8     Standard                           319  "
      ]
     },
     "execution_count": 34,
     "metadata": {},
     "output_type": "execute_result"
    }
   ],
   "source": [
    "df.head()"
   ]
  },
  {
   "cell_type": "code",
   "execution_count": 35,
   "id": "2bd7420e-6a85-44ce-84b6-af9ee78a9efc",
   "metadata": {},
   "outputs": [],
   "source": [
    "df.to_csv('credit_data.csv', index=False)"
   ]
  },
  {
   "cell_type": "code",
   "execution_count": 36,
   "id": "3e17ba99-35ba-4224-8915-3786b0239ae4",
   "metadata": {},
   "outputs": [
    {
     "data": {
      "text/plain": [
       "Credit_Score\n",
       "Standard    34319\n",
       "Poor        20306\n",
       "Good        10552\n",
       "Name: count, dtype: int64"
      ]
     },
     "execution_count": 36,
     "metadata": {},
     "output_type": "execute_result"
    }
   ],
   "source": [
    "df['Credit_Score'].value_counts()"
   ]
  },
  {
   "cell_type": "code",
   "execution_count": 37,
   "id": "13968d24-a27d-420b-ae79-d7aafd58b576",
   "metadata": {},
   "outputs": [
    {
     "data": {
      "text/plain": [
       "Occupation\n",
       "Other            4600\n",
       "Lawyer           4324\n",
       "Mechanic         4191\n",
       "Architect        4130\n",
       "Entrepreneur     4126\n",
       "Teacher          4116\n",
       "Scientist        4093\n",
       "Engineer         4086\n",
       "Accountant       4079\n",
       "Doctor           4063\n",
       "Media_Manager    4014\n",
       "Developer        3975\n",
       "Musician         3848\n",
       "Journalist       3845\n",
       "Writer           3845\n",
       "Manager          3842\n",
       "Name: count, dtype: int64"
      ]
     },
     "execution_count": 37,
     "metadata": {},
     "output_type": "execute_result"
    }
   ],
   "source": [
    "df['Occupation'].value_counts()"
   ]
  },
  {
   "cell_type": "code",
   "execution_count": 38,
   "id": "c48ea520-b041-4a07-988f-10ec71d50ca3",
   "metadata": {},
   "outputs": [
    {
     "data": {
      "text/plain": [
       "Payment_Behaviour\n",
       "Low_spent_Small_value_payments      18401\n",
       "High_spent_Medium_value_payments    12301\n",
       "Low_spent_Medium_value_payments      9744\n",
       "High_spent_Large_value_payments      9337\n",
       "High_spent_Small_value_payments      8015\n",
       "Low_spent_Large_value_payments       7379\n",
       "Name: count, dtype: int64"
      ]
     },
     "execution_count": 38,
     "metadata": {},
     "output_type": "execute_result"
    }
   ],
   "source": [
    "df['Payment_Behaviour'].value_counts()"
   ]
  },
  {
   "cell_type": "markdown",
   "id": "2c298da1-299b-4138-82f1-379f4f61a679",
   "metadata": {},
   "source": [
    "### Encoding categorical variables\n",
    "- Converting categorical (non-numeric) data into a numerical format, as most machine learning models can only interpret numbers.\n",
    "\n",
    " - `Occupation`, `Credit_Mix`,`Payment_Behaviour` and `credit_Score` needs to be transformed into a format that the model can process. Encoding ensures that these variables contribute to the model's learning."
   ]
  },
  {
   "cell_type": "code",
   "execution_count": 39,
   "id": "17840e97-a735-48ca-bb26-c2713c999b12",
   "metadata": {},
   "outputs": [],
   "source": [
    "# Initialize the label encoder\n",
    "label_encoder = LabelEncoder()"
   ]
  },
  {
   "cell_type": "code",
   "execution_count": 40,
   "id": "dc678587-f754-4306-9027-0dedd1cbd225",
   "metadata": {},
   "outputs": [],
   "source": [
    "# Applying label encoding to 'Payment_of_Min_Amount'\n",
    "df['Payment_of_Min_Amount'] = label_encoder.fit_transform(df['Payment_of_Min_Amount'])"
   ]
  },
  {
   "cell_type": "code",
   "execution_count": 41,
   "id": "0305b429-af7b-4e41-a176-bf835fb6d10e",
   "metadata": {},
   "outputs": [],
   "source": [
    "# Applying Label Encoder to the 'Payment_Behaviour' column\n",
    "df['Payment_Behaviour'] = label_encoder.fit_transform(df['Payment_Behaviour'])"
   ]
  },
  {
   "cell_type": "code",
   "execution_count": 42,
   "id": "18951ef4-b79e-431c-ae05-207853a362c4",
   "metadata": {},
   "outputs": [],
   "source": [
    "# applyinglabel encoder to `Credit_Mix`\n",
    "df[\"Credit_Mix\"]=label_encoder.fit_transform(df[\"Credit_Mix\"])"
   ]
  },
  {
   "cell_type": "code",
   "execution_count": 43,
   "id": "815b6647-847c-40e5-9b6e-c5d1b444b36f",
   "metadata": {},
   "outputs": [],
   "source": [
    "#applying label encoder in `Occupation`\n",
    "df['Occupation']=label_encoder.fit_transform(df['Occupation'])"
   ]
  },
  {
   "cell_type": "code",
   "execution_count": 44,
   "id": "94daeaa0-033d-43cc-87c4-927a3e9f4cf6",
   "metadata": {},
   "outputs": [],
   "source": [
    "# applyin label encoder to target varable\n",
    "df['Credit_Score']=label_encoder.fit_transform(df['Credit_Score'])"
   ]
  },
  {
   "cell_type": "markdown",
   "id": "db7b30e6-760e-4e37-b837-fd3cfdaa4cc2",
   "metadata": {},
   "source": [
    "#### SMOTE\n",
    "\n",
    "Using SMOTE to handle class imbalance in the Credit_Score variable.\n",
    "\n",
    "SMOTE enables the model to learn patterns in all classes more effectively, potentially leading to better performance, especially for the underrepresented classes."
   ]
  },
  {
   "cell_type": "code",
   "execution_count": 45,
   "id": "5717a9fd-5f26-473d-9084-d5038aaea255",
   "metadata": {},
   "outputs": [],
   "source": [
    "#Selecting y and X variables\n",
    "X = df.drop(columns=[\"Credit_Score\"])  # Drop the target variable\n",
    "y = df[\"Credit_Score\"]\n",
    "\n",
    "#Applying SMOTE to balance the classes in the target variable\n",
    "smote = SMOTE(random_state=42)\n",
    "X_resampled, y_resampled = smote.fit_resample(X, y)"
   ]
  },
  {
   "cell_type": "code",
   "execution_count": 46,
   "id": "42d32c1c-22fc-4641-8a45-4892802590d5",
   "metadata": {},
   "outputs": [
    {
     "data": {
      "text/plain": [
       "Credit_Score\n",
       "2    34319\n",
       "1    20306\n",
       "0    10552\n",
       "Name: count, dtype: int64"
      ]
     },
     "execution_count": 46,
     "metadata": {},
     "output_type": "execute_result"
    }
   ],
   "source": [
    "df[\"Credit_Score\"].value_counts()"
   ]
  },
  {
   "cell_type": "code",
   "execution_count": 47,
   "id": "8d19205e-da18-400b-b47d-08a93bedc981",
   "metadata": {},
   "outputs": [],
   "source": [
    "#df.head()"
   ]
  },
  {
   "cell_type": "code",
   "execution_count": 48,
   "id": "ad2bddd7-1f29-4fd2-9e86-a882a9d91a49",
   "metadata": {},
   "outputs": [],
   "source": [
    "#df.to_csv('credit_data.csv', index=False)"
   ]
  },
  {
   "cell_type": "markdown",
   "id": "61bf3fbc-15a9-48e2-af59-64a416e34421",
   "metadata": {},
   "source": [
    "### MODELLING"
   ]
  },
  {
   "cell_type": "markdown",
   "id": "36b37a13-994e-473b-82af-32dc3ff91b03",
   "metadata": {},
   "source": [
    "#### Splitting Data into Train and Test Sets"
   ]
  },
  {
   "cell_type": "code",
   "execution_count": 49,
   "id": "0398600d-0d34-4b8a-8ecf-1b9d59e2e657",
   "metadata": {},
   "outputs": [],
   "source": [
    "# Train-test split (80% training, 20% testing)\n",
    "X_train, X_test, y_train, y_test = train_test_split(X_resampled,  y_resampled , test_size=0.2, random_state=42)\n"
   ]
  },
  {
   "cell_type": "markdown",
   "id": "08dda281-2a26-4bb1-8b8b-5219b2656333",
   "metadata": {},
   "source": [
    "#### Standardization of the data\n",
    "\n",
    "Standardization transforms the data to have a mean of 0 and a standard deviation of 1.This prevents features with larger numerical values from dominating the learning process and ensures that each feature contributes equally to the model."
   ]
  },
  {
   "cell_type": "code",
   "execution_count": 50,
   "id": "2af88de5-4318-405b-9dda-4a31d9fbd645",
   "metadata": {},
   "outputs": [],
   "source": [
    "# Define the columns based on their types\n",
    "numeric_cols = ['Age', 'Annual_Income', 'Monthly_Inhand_Salary', \n",
    "                   'Interest_Rate', \n",
    "                  'Delay_from_due_date', 'Num_of_Delayed_Payment', 'Outstanding_Debt',\n",
    "                  'Credit_Utilization_Ratio', 'Total_EMI_per_month', 'Amount_invested_monthly', \n",
    "                  'Monthly_Balance', 'Credit_History_Age_in_Months']\n",
    "\n",
    "categorical_cols = ['Occupation', 'Credit_Mix', 'Payment_of_Min_Amount', 'Payment_Behaviour']\n",
    "\n",
    "# Create the column transformer\n",
    "preprocessor = ColumnTransformer(\n",
    "    transformers=[\n",
    "        ('num', StandardScaler(), numeric_cols),\n",
    "        ('cat', OneHotEncoder(handle_unknown='ignore'), categorical_cols)\n",
    "    ])\n",
    "\n",
    "# Fit and transform the training data\n",
    "X_train_processed = preprocessor.fit_transform(X_train)\n",
    "\n",
    "# Transform the testing data\n",
    "X_test_processed = preprocessor.transform(X_test)\n",
    "\n",
    "# Get the feature names after transformation\n",
    "numeric_feature_names = numeric_cols\n",
    "categorical_feature_names = preprocessor.named_transformers_['cat'].get_feature_names_out(categorical_cols)\n",
    "feature_names = numeric_feature_names + list(categorical_feature_names)\n",
    "\n",
    "# Create DataFrames for preprocessed data\n",
    "X_train_processed_df = pd.DataFrame(X_train_processed, columns=feature_names)\n",
    "X_test_processed_df = pd.DataFrame(X_test_processed, columns=feature_names)"
   ]
  },
  {
   "cell_type": "markdown",
   "id": "7f970f15-de9e-4ab7-9e1a-c3cb272a92f1",
   "metadata": {},
   "source": [
    "### Build the model"
   ]
  },
  {
   "cell_type": "markdown",
   "id": "e22bc80c-a8e2-4aa4-a413-73502b27a025",
   "metadata": {},
   "source": [
    "##### Logistic Regression"
   ]
  },
  {
   "cell_type": "code",
   "execution_count": 51,
   "id": "f6b1c1bc-4e9c-4a16-b140-c762dbc023a4",
   "metadata": {},
   "outputs": [],
   "source": [
    "#Initialize logistic regression model\n",
    "baseline_model = LogisticRegression(random_state=42)\n",
    "# Train the model\n",
    "baseline_model.fit(X_train_processed, y_train)\n",
    "\n",
    "# Predict on the testing data\n",
    "y_pred = baseline_model.predict(X_test_processed)"
   ]
  },
  {
   "cell_type": "code",
   "execution_count": 52,
   "id": "b7b672e1-8cda-4768-a38e-0b8116c885cc",
   "metadata": {},
   "outputs": [
    {
     "name": "stdout",
     "output_type": "stream",
     "text": [
      "Baseline Model Performance:\n",
      "              precision    recall  f1-score   support\n",
      "\n",
      "           0       0.69      0.84      0.76      6777\n",
      "           1       0.70      0.62      0.66      6987\n",
      "           2       0.59      0.53      0.56      6828\n",
      "\n",
      "    accuracy                           0.66     20592\n",
      "   macro avg       0.66      0.66      0.66     20592\n",
      "weighted avg       0.66      0.66      0.66     20592\n",
      "\n",
      "Baseline Model Accuracy is: 0.664044289044289\n",
      "Baseline Model r-squared is: -0.040362470372688586\n"
     ]
    }
   ],
   "source": [
    "#Evaluating the model\n",
    "print(\"Baseline Model Performance:\")\n",
    "print(classification_report(y_test, y_pred))\n",
    "print(\"Baseline Model Accuracy is: \" + str(accuracy_score(y_test, y_pred)))\n",
    "print(\"Baseline Model r-squared is: \" + str(r2_score(y_test, y_pred)))"
   ]
  },
  {
   "cell_type": "markdown",
   "id": "50c592b7-1bc4-47fb-8218-12251587bf60",
   "metadata": {},
   "source": [
    "`Observation`\n",
    "- The baseline model has moderate performance, with an overall accuracy of 66%, but it struggles more with class 1 (the recall for class 1 is only 44%, meaning many class 1 instances are misclassified). Class 2 is performing the best, with a recall of 71%.\n",
    "- The R-squared score suggests the model is not a strong predictor, likely due to its poor fit with the data or possibly class imbalances. It is important to optimize this baseline model further to improve the overall performance."
   ]
  },
  {
   "cell_type": "markdown",
   "id": "4c556f5a-0527-4798-b71f-6c5ac87c9826",
   "metadata": {},
   "source": [
    "#### Random Forest"
   ]
  },
  {
   "cell_type": "code",
   "execution_count": 53,
   "id": "2951c138-7eab-4997-b2f5-208e0847771d",
   "metadata": {},
   "outputs": [],
   "source": [
    "# Initialize the model\n",
    "model = RandomForestClassifier(random_state=42)\n",
    "# Train the model\n",
    "model.fit(X_train_processed, y_train)\n",
    "\n",
    "# Predict on the testing data\n",
    "y_pred = model.predict(X_test_processed)"
   ]
  },
  {
   "cell_type": "code",
   "execution_count": 54,
   "id": "a19da0d1-bd27-43c9-9234-1f71b075e168",
   "metadata": {},
   "outputs": [
    {
     "name": "stdout",
     "output_type": "stream",
     "text": [
      "Random Forest Model Performance:\n",
      "              precision    recall  f1-score   support\n",
      "\n",
      "           0       0.80      0.91      0.85      6777\n",
      "           1       0.82      0.85      0.83      6987\n",
      "           2       0.81      0.67      0.73      6828\n",
      "\n",
      "    accuracy                           0.81     20592\n",
      "   macro avg       0.81      0.81      0.81     20592\n",
      "weighted avg       0.81      0.81      0.81     20592\n",
      "\n",
      "Random Forest Model Accuracy is: 0.8108003108003108\n",
      "Random Forest Model r-squared is: 0.3727247900126802\n"
     ]
    }
   ],
   "source": [
    "#Evaluating the model\n",
    "print(\"Random Forest Model Performance:\")\n",
    "print(classification_report(y_test, y_pred))\n",
    "print(\"Random Forest Model Accuracy is: \" + str(accuracy_score(y_test, y_pred)))\n",
    "print(\"Random Forest Model r-squared is: \" + str(r2_score(y_test, y_pred)))"
   ]
  },
  {
   "cell_type": "markdown",
   "id": "2ec84586-222a-47d0-985d-40bced445814",
   "metadata": {},
   "source": [
    "`Observation`\n",
    "- The Random Forest model performs well, achieving an overall accuracy of 81% and an F1-score of 0.81 across all classes.\n",
    "- The model is very strong at identifying \"Good\" (class 0) and \"Fair\" (class 1) credit scores, with high recall and precision for these classes."
   ]
  },
  {
   "cell_type": "markdown",
   "id": "bb67c859-a5ad-4e3f-a15f-8e1be023c3c3",
   "metadata": {},
   "source": [
    "#### XGBoost"
   ]
  },
  {
   "cell_type": "code",
   "execution_count": 55,
   "id": "1c8401f6-f415-4aab-b11f-cb088bc7e8b7",
   "metadata": {},
   "outputs": [],
   "source": [
    "# Initialize the XGBoost classifier\n",
    "xgb = XGBClassifier(random_state=42)\n",
    "# Train the model\n",
    "xgb.fit(X_train_processed, y_train)\n",
    "\n",
    "# Predict on the testing data\n",
    "y_pred = xgb.predict(X_test_processed)"
   ]
  },
  {
   "cell_type": "code",
   "execution_count": 56,
   "id": "0a9c2702-699a-4a96-ab8a-1f90447f5e6e",
   "metadata": {},
   "outputs": [
    {
     "name": "stdout",
     "output_type": "stream",
     "text": [
      "XGBoost Model Performance:\n",
      "              precision    recall  f1-score   support\n",
      "\n",
      "           0       0.80      0.89      0.84      6777\n",
      "           1       0.81      0.81      0.81      6987\n",
      "           2       0.77      0.67      0.72      6828\n",
      "\n",
      "    accuracy                           0.79     20592\n",
      "   macro avg       0.79      0.79      0.79     20592\n",
      "weighted avg       0.79      0.79      0.79     20592\n",
      "\n",
      "XGBoost Model Accuracy is: 0.7944832944832945\n",
      "XGBoost Model r-squared is: 0.3409714632357267\n"
     ]
    }
   ],
   "source": [
    "#Evaluating the model\n",
    "print(\"XGBoost Model Performance:\")\n",
    "print(classification_report(y_test, y_pred))\n",
    "print(\"XGBoost Model Accuracy is: \" + str(accuracy_score(y_test, y_pred)))\n",
    "print(\"XGBoost Model r-squared is: \" + str(r2_score(y_test, y_pred)))"
   ]
  },
  {
   "cell_type": "markdown",
   "id": "26aa8308-83cd-4fad-8ba8-bf477fbf9e61",
   "metadata": {},
   "source": [
    "`Observation`\n",
    "- The XGBoost model outperforms the baseline model, with an overall accuracy of 79% and an F1-score of 0.79 across all classes.\n",
    "Strengths: The model performs very well for \"Good\" and \"Fair\" credit scores, achieving high precision and recall.\n",
    "Weakness: The model struggles slightly with identifying \"Poor\" credit scores (class 2), as seen in the lower recall and F1-score for that class."
   ]
  },
  {
   "cell_type": "markdown",
   "id": "4a307b8f-94f6-42e5-9930-977922f2d764",
   "metadata": {},
   "source": [
    "### Hyperparameter tunning"
   ]
  },
  {
   "cell_type": "code",
   "execution_count": 57,
   "id": "546ab45f-9130-4110-9a78-9c49dfced8be",
   "metadata": {},
   "outputs": [
    {
     "name": "stdout",
     "output_type": "stream",
     "text": [
      "Fitting 3 folds for each of 10 candidates, totalling 30 fits\n",
      "Best Parameters: {'n_estimators': 50, 'min_samples_split': 2, 'min_samples_leaf': 2, 'max_features': 'sqrt', 'max_depth': None}\n",
      "Random Forest - Train Accuracy (Best Model): 0.9728039822740242\n",
      "Random Forest - Test Accuracy (Best Model): 0.7962315462315462\n"
     ]
    }
   ],
   "source": [
    "\n",
    "\n",
    "# Define the reduced parameter grid to search\n",
    "param_grid = {\n",
    "    'n_estimators': [50, 100],  # Reduced number of trees in the forest\n",
    "    'max_depth': [None, 10, 20],  # Reduced maximum depth of the trees\n",
    "    'min_samples_split': [2, 5],  # Minimum number of samples required to split an internal node\n",
    "    'min_samples_leaf': [1, 2],  # Minimum number of samples required to be at a leaf node\n",
    "    'max_features': ['auto', 'sqrt']  # Reduced number of features to consider when looking for the best split\n",
    "}\n",
    "\n",
    "# Initialize Random Forest classifier\n",
    "rf_classifier = RandomForestClassifier(random_state=42)\n",
    "\n",
    "# Initialize RandomizedSearchCV\n",
    "random_search = RandomizedSearchCV(estimator=rf_classifier, \n",
    "                                   param_distributions=param_grid, \n",
    "                                   n_iter=10,  # Limit to 10 random combinations\n",
    "                                   cv=3,  # Reduced CV folds\n",
    "                                   n_jobs=-1, \n",
    "                                   verbose=2, \n",
    "                                   random_state=42)\n",
    "\n",
    "# Perform randomized search\n",
    "random_search.fit(X_train_processed, y_train)\n",
    "\n",
    "# Get the best parameters\n",
    "best_params = random_search.best_params_\n",
    "print(\"Best Parameters:\", best_params)\n",
    "\n",
    "# Get the best model\n",
    "best_rf_model = random_search.best_estimator_\n",
    "\n",
    "# Evaluate the best model\n",
    "train_accuracy_best = best_rf_model.score(X_train_processed, y_train)\n",
    "test_accuracy_best = best_rf_model.score(X_test_processed, y_test)\n",
    "\n",
    "print(\"Random Forest - Train Accuracy (Best Model):\", train_accuracy_best)\n",
    "print(\"Random Forest - Test Accuracy (Best Model):\", test_accuracy_best)\n",
    "\n"
   ]
  },
  {
   "cell_type": "markdown",
   "id": "b9e8c75c-3fd4-4538-b4ea-a5fc52c6ab3a",
   "metadata": {},
   "source": [
    "`Observation`\n",
    "- The training accuracy for the best model is 0.9728, or 97.28%. This indicates that the model performs exceptionally well on the training dataset, correctly predicting approximately 97.28% of the instances.\n",
    "- The test accuracy for the best model is 0.7962, or 79.62%. This indicates that it correctly predicts approximately 79.62% of the instances."
   ]
  },
  {
   "cell_type": "markdown",
   "id": "1d6aa5ce-8ab2-40d5-be53-c6cc06eeb328",
   "metadata": {},
   "source": [
    "#### Feature importance\n",
    "It provides insights into which features have the most impact on the model's predictions."
   ]
  },
  {
   "cell_type": "code",
   "execution_count": 58,
   "id": "6c21ab85-9c74-4f6c-9b99-a5a3f58ffde2",
   "metadata": {},
   "outputs": [
    {
     "data": {
      "image/png": "[encoded data removed]",
      "text/plain": [
       "<Figure size 1000x600 with 1 Axes>"
      ]
     },
     "metadata": {},
     "output_type": "display_data"
    }
   ],
   "source": [
    "# Create a Random Forest classifier\n",
    "rf_classifier = RandomForestClassifier()\n",
    "\n",
    "# Fit the classifier on the training data\n",
    "rf_classifier.fit(X_train_processed, y_train)\n",
    "\n",
    "# Get feature importances\n",
    "importances = rf_classifier.feature_importances_\n",
    "\n",
    "# Create a DataFrame to store feature importances\n",
    "feature_importance_df = pd.DataFrame({'Feature': feature_names, 'Importance': importances})\n",
    "\n",
    "# Sort the features by importance in descending order\n",
    "feature_importance_df = feature_importance_df.sort_values(by='Importance', ascending=False).head(12)\n",
    "\n",
    "# Plot feature importances\n",
    "plt.figure(figsize=(10, 6))\n",
    "sns.barplot(x='Importance', y='Feature', data=feature_importance_df)\n",
    "plt.title('Feature Importances')\n",
    "plt.xlabel('Importance')\n",
    "plt.ylabel('Feature')\n",
    "plt.show();"
   ]
  },
  {
   "cell_type": "markdown",
   "id": "2fd1db02-4941-4069-86e3-7994c339a1cd",
   "metadata": {},
   "source": [
    "### Model selection"
   ]
  },
  {
   "cell_type": "code",
   "execution_count": 59,
   "id": "514075e2-7703-4d9b-b6d4-c8f3653909be",
   "metadata": {},
   "outputs": [
    {
     "data": {
      "image/png": "[encoded data removed]",
      "text/plain": [
       "<Figure size 1000x800 with 1 Axes>"
      ]
     },
     "metadata": {},
     "output_type": "display_data"
    }
   ],
   "source": [
    " #Binarize the target labels for ROC curve calculation (assuming y_test has classes 0, 1, 2)\n",
    "y_test_binarized = label_binarize(y_test, classes=[0, 1, 2])\n",
    "n_classes = y_test_binarized.shape[1]\n",
    "\n",
    "# Initialize models\n",
    "baseline_model = LogisticRegression(random_state=42)\n",
    "rf_model = RandomForestClassifier(random_state=42)\n",
    "xgb_model = XGBClassifier(random_state=42)\n",
    "\n",
    "# Train models\n",
    "baseline_model.fit(X_train_processed, y_train)\n",
    "rf_model.fit(X_train_processed, y_train)\n",
    "xgb_model.fit(X_train_processed, y_train)\n",
    "\n",
    "# Get predicted probabilities for each model\n",
    "y_prob_lr = baseline_model.predict_proba(X_test_processed)\n",
    "y_prob_rf = rf_model.predict_proba(X_test_processed)\n",
    "y_prob_xgb = xgb_model.predict_proba(X_test_processed)\n",
    "\n",
    "# Initialize dictionaries to store false positive rate, true positive rate, and AUC values\n",
    "fpr = {}\n",
    "tpr = {}\n",
    "roc_auc = {}\n",
    "\n",
    "# Compute ROC curve and ROC area for each class and each model\n",
    "models = {'Logistic Regression': y_prob_lr, 'Random Forest': y_prob_rf, 'XGBoost': y_prob_xgb}\n",
    "colors = {'Logistic Regression': 'blue', 'Random Forest': 'green', 'XGBoost': 'red'}\n",
    "\n",
    "# Plot ROC curves for each model\n",
    "plt.figure(figsize=(10, 8))\n",
    "for model_name, y_prob in models.items():\n",
    "    fpr[model_name] = dict()\n",
    "    tpr[model_name] = dict()\n",
    "    roc_auc[model_name] = dict()\n",
    "    \n",
    "    for i in range(n_classes):\n",
    "        fpr[model_name][i], tpr[model_name][i], _ = roc_curve(y_test_binarized[:, i], y_prob[:, i])\n",
    "        roc_auc[model_name][i] = auc(fpr[model_name][i], tpr[model_name][i])\n",
    "    \n",
    "    # Compute micro-average ROC curve and AUC for each model\n",
    "    all_fpr = np.unique(np.concatenate([fpr[model_name][i] for i in range(n_classes)]))\n",
    "    mean_tpr = np.zeros_like(all_fpr)\n",
    "    for i in range(n_classes):\n",
    "        mean_tpr += np.interp(all_fpr, fpr[model_name][i], tpr[model_name][i])\n",
    "    mean_tpr /= n_classes\n",
    "    roc_auc[model_name][\"micro\"] = auc(all_fpr, mean_tpr)\n",
    "    \n",
    "    # Plot micro-average ROC curve\n",
    "    plt.plot(all_fpr, mean_tpr, color=colors[model_name],\n",
    "             label=f'{model_name} (AUC = {roc_auc[model_name][\"micro\"]:.2f})')\n",
    "\n",
    "# Plot a diagonal line for reference\n",
    "plt.plot([0, 1], [0, 1], 'k--')\n",
    "plt.xlabel(\"False Positive Rate\")\n",
    "plt.ylabel(\"True Positive Rate\")\n",
    "plt.title(\"ROC Curve Comparison - Multi-class (One-vs-Rest)\")\n",
    "plt.legend(loc=\"lower right\")\n",
    "plt.show()"
   ]
  },
  {
   "cell_type": "markdown",
   "id": "238a548b-ea09-44f2-862f-e0f54ff5e5d9",
   "metadata": {},
   "source": [
    "`Observtion`\n",
    "- Random Forest: Tends to perform well in complex datasets due to its ensemble structure. It may achieve a higher AUC if the dataset contains non-linear relationships.\n",
    "- Logistic Regression have a lower AUC of 82% than other models.\n",
    "- XGBoost is the second most performing model with an AUC of 93%"
   ]
  },
  {
   "cell_type": "markdown",
   "id": "1035edc9-240f-45a5-ae92-37132dd405f4",
   "metadata": {},
   "source": [
    "## Findings"
   ]
  },
  {
   "cell_type": "markdown",
   "id": "1f5c8709-160d-44c0-8327-464c0f7050eb",
   "metadata": {},
   "source": [
    "- The most frequent payment behavior is \"Low_spent_Small_value_payments,\" suggesting that a large proportion of customers prefer conservative spending with smaller payments. This may indicate a cautious or budget-conscious segment of the customer base. These individuals might prioritize staying within a fixed budget, making them potentially lower-risk in terms of credit management.\n",
    "- Majority of customers have a \"Good\" credit score, suggesting that the customer base is predominantly lower-risk.\n",
    "- Average outstanding debt remained fairly consistent throughout the months showing no significant spike or drop, which suggests a stable debt level "
   ]
  },
  {
   "cell_type": "markdown",
   "id": "6982b41d-94c4-49f9-954e-050ff48d37c3",
   "metadata": {},
   "source": [
    "### RECOMMENDATIONS"
   ]
  },
  {
   "cell_type": "markdown",
   "id": "239f1729-14b3-41a3-87b9-3cc718c44f0d",
   "metadata": {},
   "source": [
    "- Monthly Balance Management: Customers with low or fluctuating monthly balances might benefit from budgeting tools or advice on maintaining a stable balance to reduce financial stress and improve payment regularity.\n",
    "- Financial Literacy Initiatives: For customers with lower scores, personalized advice on managing loans, balancing credit inquiries, and avoiding high-interest debts can empower them to make better financial decisions.\n",
    "- Monitoring and Feedback by offering a credit score tracker that shows changes in specific behaviors (e.g., lowering Credit_Utilization_Ratio, timely payments) could positively impact their score. Visualizing the potential impact could motivate users to improve credit habits."
   ]
  },
  {
   "cell_type": "markdown",
   "id": "674f21d9-2d93-4706-84ec-275133606e7f",
   "metadata": {},
   "source": [
    "### CONCLUSION"
   ]
  },
  {
   "cell_type": "markdown",
   "id": "dd636a79-d65d-41dc-9c3d-13879b36820a",
   "metadata": {},
   "source": [
    "- Many customers have potential for score improvement through financial discipline. With better payment patterns, optimized credit utilization, and debt reduction, even customers with moderate credit scores could improve over time.\n",
    "- The dataset highlights key areas for financial institutions to focus on when evaluating creditworthiness, particularly behavioral and utilization metrics. By emphasizing these factors, financial institutions can better assess risk and offer tailored recommendations or products to encourage positive financial habits among customers.\n",
    "- The Credit_Utilization_Ratio and Outstanding_Debt features suggest that higher utilization ratios and debts negatively impact credit scores. Keeping credit utilization under control and reducing debt load are essential steps for maintaining or improving credit scores."
   ]
  }
 ],
 "metadata": {
  "kernelspec": {
   "display_name": "Python 3 (ipykernel)",
   "language": "python",
   "name": "python3"
  },
  "language_info": {
   "codemirror_mode": {
    "name": "ipython",
    "version": 3
   },
   "file_extension": ".py",
   "mimetype": "text/x-python",
   "name": "python",
   "nbconvert_exporter": "python",
   "pygments_lexer": "ipython3",
   "version": "3.11.7"
  }
 },
 "nbformat": 4,
 "nbformat_minor": 5
}
